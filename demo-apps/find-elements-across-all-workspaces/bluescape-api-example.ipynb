{
 "cells": [
  {
   "attachments": {},
   "cell_type": "markdown",
   "id": "bd283860",
   "metadata": {},
   "source": [
    "# Search all workspaces for content\n",
    "\n",
    "This small example Python notebook:\n",
    "\n",
    "1. Query the Bluescape API to get a list of all workspace IDs the user has access to\n",
    "2. Search each retrieved workspace ID for the elements we're interested in\n",
    "\n",
    "Before we can run the code, we need to register an \"application\"\n",
    "[here](https://admin.apps.us.bluescape.com/applications/all_organizations):\n",
    "\n",
    "It should look similar to this:\n",
    "\n",
    "![Bluescape application registration screenshot](./bluescape-application-registration.png)\n",
    "\n",
    "If you can't see a screen like that, you may not have permissions and will have to ask your\n",
    "organization admin.\n",
    "\n",
    "You'll also need to grab a JWT access token, which is described\n",
    "[here](https://community.bluescape.com/t/api-application-authorization/2025).\n",
    "\n",
    "I've used `https://localhost:8080` as the OAuth redirect URI, even though I don't have\n",
    "a server running there (which is fine).\n",
    "\n",
    "With both of those in hand, you'll need this URL (update with your own client ID token and redirect URL):\n",
    "\n",
    "```txt\n",
    "  https://api.apps.us.bluescape.com/authorize?response_type=token&client_id=<client_id>&redirect_uri=<redirect_url>\n",
    "```\n",
    "\n",
    "For example:\n",
    "```txt\n",
    "    https://api.apps.us.bluescape.com/authorize?response_type=token&client_id=1234567c-89f0-12f3-4a5b-6a7a8e9b0123&redirect_uri=https://localhost:8080\n",
    "```\n",
    "\n",
    "Then you can grab the access token from directly from the URL as described in the\n",
    "[documentation](https://community.bluescape.com/t/api-application-authorization/2025).\n"
   ]
  },
  {
   "cell_type": "code",
   "execution_count": null,
   "metadata": {},
   "outputs": [],
   "source": [
    "import json\n",
    "import requests\n",
    "from typing import Any, List, Dict, Optional"
   ]
  },
  {
   "attachments": {},
   "cell_type": "markdown",
   "id": "59a0b8cd",
   "metadata": {},
   "source": [
    "## Helper functions"
   ]
  },
  {
   "cell_type": "code",
   "execution_count": 25,
   "id": "7bc2fa26",
   "metadata": {},
   "outputs": [],
   "source": [
    "def load_secret(file_path: str) -> str:\n",
    "    \"\"\"A small helper function that returns a .txt file contents as a string\"\"\"\n",
    "    with open(file_path, mode=\"r\") as file:\n",
    "        return file.read().strip()\n",
    "\n",
    "\n",
    "def bearer_auth(access_token: str) -> str:\n",
    "    \"\"\"Create the authentication bearer header value\"\"\"\n",
    "    return f\"Bearer {access_token}\"\n",
    "\n",
    "\n",
    "def create_auth_header(access_token: str) -> Dict[str, str]:\n",
    "    \"\"\"Create the header dictionary with the authorization bearer token\"\"\"\n",
    "    return {\"Authorization\": bearer_auth(access_token)}"
   ]
  },
  {
   "attachments": {},
   "cell_type": "markdown",
   "id": "16b7e830",
   "metadata": {},
   "source": [
    "## Configuration"
   ]
  },
  {
   "cell_type": "code",
   "execution_count": 27,
   "id": "bf5c3c4e",
   "metadata": {},
   "outputs": [],
   "source": [
    "# The production US Shared API\n",
    "bluescape_api = \"https://api.apps.us.bluescape.com\"\n",
    "\n",
    "# Load the secret Bluescape API access token\n",
    "application_client_id = \"--Your-application-client-id--\"\n",
    "access_token = \"--Your-access-token-here--or-store-it-in-a-file-outside-of-git-and-read-it-with-load_secret()\"\n",
    "# access_token = load_secret(\"c:\\\\private\\your-access-token-file.txt\")\n"
   ]
  },
  {
   "attachments": {},
   "cell_type": "markdown",
   "id": "296e49ee",
   "metadata": {},
   "source": [
    "## Get user Workspace IDs\n",
    "\n",
    "To search across all the workspaces the user has access to,\n",
    "we first need to get a list of all the workspace IDs the user can access.\n",
    "\n",
    "We'll loop through the detailed workspace objects extracting the workspace IDs."
   ]
  },
  {
   "cell_type": "code",
   "execution_count": null,
   "id": "4d72db42",
   "metadata": {},
   "outputs": [],
   "source": [
    "def get_user_workspaces_ids(\n",
    "    access_token: str,\n",
    ") -> List[str]:\n",
    "    \"\"\" Get a list of the current user's workspace IDs.\n",
    "        See: https://api.apps.us.bluescape.com/docs/doc/us/isam#/User/UserWorkspacesMeController_getSessionUserWorkspaces\n",
    "    \"\"\"\n",
    "\n",
    "    # Request the workspaces URL and retrieve the workspace objects for the current user\n",
    "    url = f\"{bluescape_api}/v3/users/me/workspaces\"\n",
    "    response = requests.get(url, headers=create_auth_header(access_token))\n",
    "    if response.status_code == 404:\n",
    "        return []\n",
    "    response_json = response.json()\n",
    "\n",
    "    # Parse the workspace IDs out of the response JSON object\n",
    "    # Response objects look like this:\n",
    "    # \"workspaces\": [\n",
    "    #   {  \"id\": \"qUXmyrHnCSS3JbgmJjxL\",\n",
    "    #      ....\n",
    "    # For full details, see the URL above and examine the return schema.\n",
    "    if \"workspaces\" in response_json:\n",
    "        workspaces = response_json[\"workspaces\"]\n",
    "        return [ data[\"id\"] for data in workspaces]\n",
    "    raise Exception(json.dumps(response_json, indent=4))\n",
    "\n",
    "# Test `get_user_workspaces_ids()` by using it to find all the workspace IDs we have access to\n",
    "workspace_ids = get_user_workspaces_ids(access_token)\n",
    "example_workspace_id = workspace_ids[0]\n",
    "print(f\"Found: {len(workspace_ids)} workspace IDs\")\n"
   ]
  },
  {
   "attachments": {},
   "cell_type": "markdown",
   "id": "1ed8d830",
   "metadata": {},
   "source": [
    "## Search workspace\n",
    "\n",
    "A function that will search a single workspace for certain element types with the given text."
   ]
  },
  {
   "cell_type": "code",
   "execution_count": null,
   "id": "991017a8",
   "metadata": {},
   "outputs": [],
   "source": [
    "def search_elements(\n",
    "    access_token: str,\n",
    "    workspace_id: str,\n",
    "    query: Optional[str],\n",
    "    element_types: Optional[List[str]] = None,\n",
    ") -> List[Dict[str, Any]]:\n",
    "    \"\"\" Search in the given workspace for all elements with the given query text.\n",
    "\n",
    "        See: https://api.apps.us.bluescape.com/docs/doc/us/elementary#/Elements/SearchController.searchElements\n",
    "\n",
    "        From the schema, `element_types` can be any of:\n",
    "            Text, LegacyNote, Icon, Image, Document, Grid, Browser, Video, Stroke, Shape, Line,\n",
    "            LinkedDocument, Canvas, Selection, Window, Whiteboard\n",
    "\n",
    "        Note that this does not search inside the content of files (like inside .docx or .pdf).\n",
    "    \"\"\"\n",
    "    # Build the search request body\n",
    "    request_body_json: Dict[str,Any] = {\n",
    "        \"includeComments\": False,\n",
    "        \"orderDirection\": \"asc\",\n",
    "        \"query\": query,\n",
    "    }\n",
    "    if element_types is not None:\n",
    "        request_body_json[\"filterTypes\"] = element_types\n",
    "\n",
    "    # Query the Bluescape search API URL\n",
    "    url = f\"{bluescape_api}/v3/workspaces/{workspace_id}/search\"\n",
    "    headers = create_auth_header(access_token)\n",
    "    headers['Content-Type'] = 'application/json' # Add content type to our headers\n",
    "    response = requests.post(url, headers=headers, data=json.dumps(request_body_json))\n",
    "    if response.status_code == 404:\n",
    "        return []\n",
    "    response_json = response.json()\n",
    "\n",
    "    # Process the response and extract the elements that match our search query\n",
    "    if \"data\" in response_json:\n",
    "        elements = response_json[\"data\"]\n",
    "        return elements\n",
    "    raise Exception(json.dumps(response_json, indent=4))\n"
   ]
  },
  {
   "attachments": {},
   "cell_type": "markdown",
   "id": "f2f52065",
   "metadata": {},
   "source": [
    "## `main()`\n",
    "\n",
    "Use our results so far to loop over all the workspaces and search each for what we want"
   ]
  },
  {
   "cell_type": "code",
   "execution_count": null,
   "id": "b5a65417",
   "metadata": {},
   "outputs": [],
   "source": [
    "# For each workspace I have access to:\n",
    "for workspace_id in workspace_ids:\n",
    "    # Search for all elements in the workspace\n",
    "    results = search_elements(access_token, example_workspace_id, \"a\")\n",
    "\n",
    "    # Do something with these results - here I just print them out\n",
    "    for result in results:\n",
    "        element = result[\"element\"]\n",
    "        print(element) \n"
   ]
  }
 ],
 "metadata": {
  "interpreter": {
   "hash": "c681e614ed6c1b9dfdc67ee465a9fd7fe27c89a166af6d414dc7bcfeee62dabd"
  },
  "kernelspec": {
   "display_name": "Python 3.10.4 ('analytics-data-science-7fyINvVd')",
   "language": "python",
   "name": "python3"
  },
  "language_info": {
   "codemirror_mode": {
    "name": "ipython",
    "version": 3
   },
   "file_extension": ".py",
   "mimetype": "text/x-python",
   "name": "python",
   "nbconvert_exporter": "python",
   "pygments_lexer": "ipython3",
   "version": "3.10.10"
  }
 },
 "nbformat": 4,
 "nbformat_minor": 5
}
